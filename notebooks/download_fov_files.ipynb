{
 "cells": [
  {
   "cell_type": "code",
   "execution_count": 2,
   "id": "78afac76",
   "metadata": {},
   "outputs": [],
   "source": [
    "from matplotlib import pyplot as plt\n",
    "import warnings\n",
    "import pandas as pd\n",
    "import numpy as np\n",
    "from upath import UPath as Path\n",
    "from ome_zarr.reader import Reader\n",
    "from ome_zarr.io import parse_url\n",
    "from aicsimageio import AICSImage, transforms\n",
    "from tqdm import tqdm \n",
    "\n",
    "df = pd.read_parquet(\"s3://allencell-hipsc-cytodata/hackathon_manifest_17oct2022.parquet\")\n",
    "small_df = df[df['Structure'].isin(['mitochondria','microtubules','ER (Sec61 beta)'])]\n",
    "smaller_df = small_df.groupby('FOVId').first()\n",
    "indices_per_stage = {s : [] for s in df[df['Structure'].isin(['mitochondria','microtubules','ER (Sec61 beta)'])]['cell_stage'].unique()}\n",
    "indices = {(st,sc) : np.where((smaller_df['cell_stage'] == st) & \n",
    "                              (smaller_df['Structure'] == sc))[0] \n",
    "           for st in smaller_df['cell_stage'].unique() for sc in smaller_df['Structure'].unique()}\n",
    "new_indices = []\n",
    "for sc in smaller_df['cell_stage'].unique():\n",
    "    for st in smaller_df['Structure'].unique():\n",
    "        new_indices.extend(np.random.choice(indices[(sc,st)], 12))"
   ]
  },
  {
   "cell_type": "code",
   "execution_count": 3,
   "id": "76040bcb",
   "metadata": {},
   "outputs": [
    {
     "data": {
      "text/plain": [
       "216"
      ]
     },
     "execution_count": 3,
     "metadata": {},
     "output_type": "execute_result"
    }
   ],
   "source": [
    "len(new_indices)"
   ]
  },
  {
   "cell_type": "code",
   "execution_count": null,
   "id": "ddb1dda5",
   "metadata": {},
   "outputs": [],
   "source": [
    "from matplotlib import pyplot as plt\n",
    "import warnings\n",
    "import pandas as pd\n",
    "import numpy as np\n",
    "from upath import UPath as Path\n",
    "from ome_zarr.reader import Reader\n",
    "from ome_zarr.io import parse_url\n",
    "from aicsimageio import AICSImage, transforms\n",
    "from tqdm import tqdm \n",
    "\n",
    "df = pd.read_parquet(\"s3://allencell-hipsc-cytodata/hackathon_manifest_17oct2022.parquet\")\n",
    "small_df = df[df['Structure'].isin(['mitochondria','microtubules','ER (Sec61 beta)'])]\n",
    "smaller_df = small_df.groupby('FOVId').first()\n",
    "indices_per_stage = {s : [] for s in df[df['Structure'].isin(['mitochondria','microtubules','ER (Sec61 beta)'])]['cell_stage'].unique()}\n",
    "indices = {(st,sc) : np.where((smaller_df['cell_stage'] == st) & \n",
    "                              (smaller_df['Structure'] == sc))[0] \n",
    "           for st in smaller_df['cell_stage'].unique() for sc in smaller_df['Structure'].unique()}\n",
    "\n",
    "df.set_index(df['CellId'].astype(int), inplace=True)\n",
    "print(f'Number of cells: {len(df)}')\n",
    "print(f'Number of columns: {len(df.columns)}')\n",
    "\n",
    "def read_ome_zarr(path, level=0, image_name=\"default\"):\n",
    "    path = str(path if image_name is None else Path(path) / image_name)\n",
    "    reader = Reader(parse_url(path))\n",
    "\n",
    "    node = next(iter(reader()))\n",
    "    pps = node.metadata[\"coordinateTransformations\"][0][0][\"scale\"][-3:]\n",
    "    return AICSImage(\n",
    "        node.data[level].compute(),\n",
    "        channel_names=node.metadata[\"name\"],\n",
    "        physical_pixel_sizes=pps,\n",
    "    )\n"
   ]
  },
  {
   "cell_type": "code",
   "execution_count": 9,
   "id": "f667deb4",
   "metadata": {},
   "outputs": [],
   "source": [
    "import torch\n",
    "a = torch.load('/scr/mdoron/allen/cytodata-hackathon-base/results/features.pth')"
   ]
  },
  {
   "cell_type": "code",
   "execution_count": 15,
   "id": "53872d22",
   "metadata": {},
   "outputs": [],
   "source": [
    "features = a[0]"
   ]
  },
  {
   "cell_type": "code",
   "execution_count": 17,
   "id": "66deb5d2",
   "metadata": {},
   "outputs": [],
   "source": [
    "torch.save(a[0], '/scr/mdoron/allen/cytodata-hackathon-base/results/features.pth')"
   ]
  },
  {
   "cell_type": "code",
   "execution_count": 20,
   "id": "f6da6b2d",
   "metadata": {},
   "outputs": [
    {
     "data": {
      "text/plain": [
       "torch.Size([215081, 384])"
      ]
     },
     "execution_count": 20,
     "metadata": {},
     "output_type": "execute_result"
    }
   ],
   "source": [
    "a[0].shape"
   ]
  },
  {
   "cell_type": "code",
   "execution_count": null,
   "id": "e579374d",
   "metadata": {},
   "outputs": [],
   "source": [
    "def download_img(ind):\n",
    "    filename = df.iloc[ind]['3d_image']\n",
    "    cell_id = df.iloc[ind]['CellId']\n",
    "    img = read_ome_zarr(filename)\n",
    "    img = img.data[0,[0,1,2,3],:,:,:].max(axis=1)\n",
    "    np.save(f'/scr/mdoron/allen/cell_data/{cell_id}.npy', img)\n"
   ]
  },
  {
   "cell_type": "code",
   "execution_count": null,
   "id": "edaeb21b",
   "metadata": {},
   "outputs": [],
   "source": [
    "plt.hist(df[df['Structure'].isin(['mitochondria','microtubules','ER (Sec61 beta)'])]['cell_stage'])"
   ]
  },
  {
   "cell_type": "code",
   "execution_count": null,
   "id": "4809a1ad",
   "metadata": {},
   "outputs": [],
   "source": [
    "small_df = df[df['Structure'].isin(['mitochondria','microtubules','ER (Sec61 beta)'])]\n",
    "smaller_df = small_df.groupby('FOVId').first()\n",
    "indices_per_stage = {s : [] for s in df[df['Structure'].isin(['mitochondria','microtubules','ER (Sec61 beta)'])]['cell_stage'].unique()}\n",
    "indices = {(st,sc) : np.where((smaller_df['cell_stage'] == st) & \n",
    "                              (smaller_df['Structure'] == sc))[0] \n",
    "           for st in smaller_df['cell_stage'].unique() for sc in smaller_df['Structure'].unique()}\n"
   ]
  },
  {
   "cell_type": "code",
   "execution_count": null,
   "id": "9e05a351",
   "metadata": {},
   "outputs": [],
   "source": [
    "smaller_df = small_df.groupby('FOVId').first()\n",
    "indices_per_stage = {s : [] for s in df[df['Structure'].isin(['mitochondria','microtubules','ER (Sec61 beta)'])]['cell_stage'].unique()}\n",
    "indices = {(st,sc) : np.where((smaller_df['cell_stage'] == st) & \n",
    "                              (smaller_df['Structure'] == sc))[0] \n",
    "           for st in smaller_df['cell_stage'].unique() for sc in smaller_df['Structure'].unique()}\n"
   ]
  },
  {
   "cell_type": "code",
   "execution_count": null,
   "id": "62be9493",
   "metadata": {},
   "outputs": [],
   "source": []
  },
  {
   "cell_type": "code",
   "execution_count": null,
   "id": "ce9ad6b0",
   "metadata": {},
   "outputs": [],
   "source": []
  },
  {
   "cell_type": "code",
   "execution_count": null,
   "id": "185398eb",
   "metadata": {},
   "outputs": [],
   "source": [
    "indices_per_stage = {s : [] for s in df[df['Structure'].isin(['mitochondria','microtubules','ER (Sec61 beta)'])]['cell_stage'].unique}\n"
   ]
  },
  {
   "cell_type": "code",
   "execution_count": null,
   "id": "6f0af525",
   "metadata": {},
   "outputs": [],
   "source": [
    "indices_per_stage = {s : [] for s in df[df['Structure'].isin(['mitochondria','microtubules','ER (Sec61 beta)'])]['cell_stage'].unique()}\n",
    "indices = {(st,sc) : np.where((smaller_df['cell_stage'] == st) & \n",
    "                              (smaller_df['Structure'] == sc))[0] \n",
    "           for st in smaller_df['cell_stage'].unique() for sc in smaller_df['Structure'].unique()}\n"
   ]
  },
  {
   "cell_type": "code",
   "execution_count": null,
   "id": "0d0dd3ef",
   "metadata": {},
   "outputs": [],
   "source": [
    "smaller_df['cell_stage'].unique()"
   ]
  },
  {
   "cell_type": "code",
   "execution_count": null,
   "id": "8373150a",
   "metadata": {},
   "outputs": [],
   "source": []
  },
  {
   "cell_type": "code",
   "execution_count": null,
   "id": "79bcc00c",
   "metadata": {},
   "outputs": [],
   "source": [
    "smaller_df.iloc[new_indices]."
   ]
  },
  {
   "cell_type": "code",
   "execution_count": null,
   "id": "79d98485",
   "metadata": {},
   "outputs": [],
   "source": [
    "files = [str(f) for f in Path('/scr/mdoron/allen/cell_data/').glob('*.tiff')]\n",
    "IDs = [(f.stem) for f in Path('/scr/mdoron/allen/cell_data/').glob('*.tiff')]\n",
    "pd.DataFrame(zip(files,IDs), columns=['file','ID']).to_csv('/scr/mdoron/allen/cell_df.csv')"
   ]
  },
  {
   "cell_type": "code",
   "execution_count": null,
   "id": "69611795",
   "metadata": {},
   "outputs": [],
   "source": []
  },
  {
   "cell_type": "code",
   "execution_count": null,
   "id": "895e119f",
   "metadata": {},
   "outputs": [],
   "source": []
  },
  {
   "cell_type": "code",
   "execution_count": null,
   "id": "6af41897",
   "metadata": {},
   "outputs": [],
   "source": []
  },
  {
   "cell_type": "code",
   "execution_count": 4,
   "id": "af0eeee0",
   "metadata": {},
   "outputs": [
    {
     "ename": "NameError",
     "evalue": "name 'io' is not defined",
     "output_type": "error",
     "traceback": [
      "\u001b[0;31m---------------------------------------------------------------------------\u001b[0m",
      "\u001b[0;31mNameError\u001b[0m                                 Traceback (most recent call last)",
      "Input \u001b[0;32mIn [4]\u001b[0m, in \u001b[0;36m<cell line: 1>\u001b[0;34m()\u001b[0m\n\u001b[0;32m----> 1\u001b[0m img\u001b[38;5;241m=\u001b[39m\u001b[43mio\u001b[49m\u001b[38;5;241m.\u001b[39mimread(\u001b[38;5;124m'\u001b[39m\u001b[38;5;124m/scr/mdoron/allen/cell_data/917033.ome.tiff\u001b[39m\u001b[38;5;124m'\u001b[39m)\n",
      "\u001b[0;31mNameError\u001b[0m: name 'io' is not defined"
     ]
    }
   ],
   "source": [
    "img = io.imread('/scr/mdoron/allen/cell_data/917033.ome.tiff')"
   ]
  },
  {
   "cell_type": "code",
   "execution_count": null,
   "id": "8c2494f1",
   "metadata": {},
   "outputs": [],
   "source": []
  },
  {
   "cell_type": "code",
   "execution_count": null,
   "id": "660c11f2",
   "metadata": {},
   "outputs": [],
   "source": [
    "img -= img.min(axis=(0,1))\n",
    "img /= img.mia(axis=(0,1))\n"
   ]
  },
  {
   "cell_type": "code",
   "execution_count": 198,
   "id": "9568a832",
   "metadata": {},
   "outputs": [
    {
     "data": {
      "text/plain": [
       "(238, 374, 3)"
      ]
     },
     "execution_count": 198,
     "metadata": {},
     "output_type": "execute_result"
    }
   ],
   "source": [
    "img.shape"
   ]
  },
  {
   "cell_type": "code",
   "execution_count": null,
   "id": "81afb1c9",
   "metadata": {},
   "outputs": [],
   "source": []
  },
  {
   "cell_type": "code",
   "execution_count": 166,
   "id": "986a0502",
   "metadata": {},
   "outputs": [
    {
     "data": {
      "text/plain": [
       "array([[-1., -1., -1., ..., -1., -1., -1.],\n",
       "       [-1., -1., -1., ..., -1., -1., -1.],\n",
       "       [-1., -1., -1., ..., -1., -1., -1.],\n",
       "       ...,\n",
       "       [-1., -1., -1., ..., -1., -1., -1.],\n",
       "       [-1., -1., -1., ..., -1., -1., -1.],\n",
       "       [-1., -1., -1., ..., -1., -1., -1.]], dtype=float32)"
      ]
     },
     "execution_count": 166,
     "metadata": {},
     "output_type": "execute_result"
    }
   ],
   "source": [
    "- bf - brightfield channel \n",
    "- dna - dna intensity channel\n",
    "- membrane - membrane intensity channel\n",
    "- structure - structure intensity channel"
   ]
  },
  {
   "cell_type": "code",
   "execution_count": 123,
   "id": "c9cda855",
   "metadata": {},
   "outputs": [],
   "source": [
    "new_indices = []\n",
    "for sc in smaller_df['cell_stage'].unique():\n",
    "    for st in smaller_df['Structure'].unique():\n",
    "        new_indices.extend(np.random.choice(indices[(sc,st)], 12))"
   ]
  }
 ],
 "metadata": {
  "kernelspec": {
   "display_name": "Python 3 (ipykernel)",
   "language": "python",
   "name": "python3"
  },
  "language_info": {
   "codemirror_mode": {
    "name": "ipython",
    "version": 3
   },
   "file_extension": ".py",
   "mimetype": "text/x-python",
   "name": "python",
   "nbconvert_exporter": "python",
   "pygments_lexer": "ipython3",
   "version": "3.9.12"
  }
 },
 "nbformat": 4,
 "nbformat_minor": 5
}
