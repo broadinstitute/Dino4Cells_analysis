{
 "cells": [
  {
   "cell_type": "code",
   "execution_count": null,
   "metadata": {},
   "outputs": [],
   "source": [
    "from skimage import io\n",
    "import os\n",
    "import os.path as osp\n",
    "from torchvision.transforms import Compose\n",
    "import pandas as pd\n",
    "import matplotlib.pyplot as plt\n",
    "import torch\n",
    "import matplotlib.patches as patches\n",
    "from PIL import Image"
   ]
  },
  {
   "cell_type": "code",
   "execution_count": null,
   "metadata": {},
   "outputs": [],
   "source": [
    "from main_dino import DataAugmentationDINO"
   ]
  },
  {
   "cell_type": "code",
   "execution_count": null,
   "metadata": {},
   "outputs": [],
   "source": [
    "config = 'configs/config.yaml'\n",
    "data_path = '/checkpoint/bojanowski/data/DINO4CELL/2022_02_09_single_cell/fixed_size_masked_single_cells/'\n",
    "index_im = 1"
   ]
  },
  {
   "cell_type": "code",
   "execution_count": null,
   "metadata": {},
   "outputs": [],
   "source": [
    "data = pd.read_csv('/checkpoint/bojanowski/data/DINO4CELL/2022_02_09_single_cell/fixed_size_masked_single_cells.csv')"
   ]
  },
  {
   "cell_type": "code",
   "execution_count": null,
   "metadata": {},
   "outputs": [],
   "source": [
    "transform = DataAugmentationDINO(config = config)"
   ]
  },
  {
   "cell_type": "code",
   "execution_count": null,
   "metadata": {},
   "outputs": [],
   "source": [
    "# remove to tensor and normalize\n",
    "transform.global_transfo1 = Compose(transform.global_transfo1.transforms[:-1])\n",
    "transform.global_transfo2 = Compose(transform.global_transfo2.transforms[:-1])\n",
    "transform.local_transfo = Compose(transform.local_transfo.transforms[:-1])"
   ]
  },
  {
   "cell_type": "code",
   "execution_count": null,
   "metadata": {},
   "outputs": [],
   "source": [
    "path =osp.join(data_path,data.iloc[index_im]['file'].split('/')[-1])"
   ]
  },
  {
   "cell_type": "code",
   "execution_count": null,
   "metadata": {},
   "outputs": [],
   "source": [
    "im = io.imread(path)"
   ]
  },
  {
   "cell_type": "markdown",
   "metadata": {},
   "source": [
    "## Full image"
   ]
  },
  {
   "cell_type": "code",
   "execution_count": null,
   "metadata": {},
   "outputs": [],
   "source": [
    "plt.figure(figsize=(8,8))\n",
    "plt.imshow(im)"
   ]
  },
  {
   "cell_type": "markdown",
   "metadata": {},
   "source": [
    "## First Global data augmentation"
   ]
  },
  {
   "cell_type": "code",
   "execution_count": null,
   "metadata": {},
   "outputs": [],
   "source": [
    "fig, axs = plt.subplots(12,12,figsize=(50,50))\n",
    "for i in range(12):\n",
    "    for j in range(12):\n",
    "        axs[i,j].imshow(transform.global_transfo1(im).permute(1,2,0).numpy())\n",
    "plt.show()"
   ]
  },
  {
   "cell_type": "markdown",
   "metadata": {},
   "source": [
    "## Second Global data augmentation"
   ]
  },
  {
   "cell_type": "code",
   "execution_count": null,
   "metadata": {},
   "outputs": [],
   "source": [
    "fig, axs = plt.subplots(12,12,figsize=(50,50))\n",
    "for i in range(12):\n",
    "    for j in range(12):\n",
    "        axs[i,j].imshow(transform.global_transfo2(im).permute(1,2,0).numpy())\n",
    "plt.show()"
   ]
  },
  {
   "cell_type": "markdown",
   "metadata": {},
   "source": [
    "## Local data augmentation without brightness and contrast"
   ]
  },
  {
   "cell_type": "code",
   "execution_count": null,
   "metadata": {},
   "outputs": [],
   "source": [
    "fig, axs = plt.subplots(12,12,figsize=(50,50))\n",
    "for i in range(12):\n",
    "    for j in range(12):\n",
    "        axs[i,j].imshow(transform.local_transfo(im).permute(1,2,0).numpy())\n",
    "plt.show()"
   ]
  },
  {
   "cell_type": "markdown",
   "metadata": {},
   "source": [
    "## Global Crop"
   ]
  },
  {
   "cell_type": "code",
   "execution_count": null,
   "metadata": {},
   "outputs": [],
   "source": [
    "before_rrc = Compose(transform.global_transfo1.transforms[:4])\n",
    "rrc = transform.global_transfo1.transforms[4]"
   ]
  },
  {
   "cell_type": "code",
   "execution_count": null,
   "metadata": {},
   "outputs": [],
   "source": [
    "img = io.imread(path)\n",
    "img = before_rrc(img)\n",
    "if not isinstance(img, torch.Tensor): img = transforms.ToTensor()(img)\n",
    "\n",
    "\n",
    "# Create figure and axes\n",
    "fig, ax = plt.subplots(figsize = (10,10))\n",
    "\n",
    "# Display the image\n",
    "ax.imshow(img.permute(1,2,0).numpy())\n",
    "\n",
    "color = ['r','g','b','pink','orange']\n",
    "for _ in range(20):\n",
    "    i, j, h, w = rrc.get_params(img, rrc.scale, rrc.ratio)\n",
    "    # Create a Rectangle patch\n",
    "    rect = patches.Rectangle((j, i), w, h, linewidth=1, edgecolor=color[_%5], facecolor='none')\n",
    "    \n",
    "    # Add the patch to the Axes\n",
    "    ax.add_patch(rect)\n",
    "\n",
    "plt.show()"
   ]
  },
  {
   "cell_type": "markdown",
   "metadata": {},
   "source": [
    "## Local Crop"
   ]
  },
  {
   "cell_type": "code",
   "execution_count": null,
   "metadata": {},
   "outputs": [],
   "source": [
    "before_rrc = Compose(transform.local_transfo.transforms[:4])\n",
    "rrc = transform.local_transfo.transforms[4]"
   ]
  },
  {
   "cell_type": "code",
   "execution_count": null,
   "metadata": {},
   "outputs": [],
   "source": [
    "rrc.scale = [0.05,0.4]"
   ]
  },
  {
   "cell_type": "code",
   "execution_count": null,
   "metadata": {},
   "outputs": [],
   "source": [
    "img = io.imread(path)\n",
    "img = before_rrc(img)\n",
    "if not isinstance(img, torch.Tensor): img = transforms.ToTensor()(img)\n",
    "\n",
    "\n",
    "# Create figure and axes\n",
    "fig, ax = plt.subplots(figsize = (10,10))\n",
    "\n",
    "# Display the image\n",
    "ax.imshow(img.permute(1,2,0).numpy())\n",
    "\n",
    "color = ['r','g','b','pink','orange']\n",
    "for _ in range(20):\n",
    "    i, j, h, w = rrc.get_params(img, rrc.scale, rrc.ratio)\n",
    "    # Create a Rectangle patch\n",
    "    rect = patches.Rectangle((j, i), w, h, linewidth=1, edgecolor=color[_%5], facecolor='none')\n",
    "    \n",
    "    # Add the patch to the Axes\n",
    "    ax.add_patch(rect)\n",
    "\n",
    "plt.show()"
   ]
  },
  {
   "cell_type": "markdown",
   "metadata": {},
   "source": [
    "## Remove Brightness and contrast"
   ]
  },
  {
   "cell_type": "code",
   "execution_count": null,
   "metadata": {},
   "outputs": [],
   "source": [
    "transform.global_transfo1 = Compose(transform.global_transfo1.transforms[:5])\n",
    "transform.global_transfo2 = Compose(transform.global_transfo2.transforms[:5])\n",
    "transform.local_transfo = Compose(transform.local_transfo.transforms[:5])"
   ]
  },
  {
   "cell_type": "markdown",
   "metadata": {},
   "source": [
    "## First Global data augmentation without brightness and contrast"
   ]
  },
  {
   "cell_type": "code",
   "execution_count": null,
   "metadata": {},
   "outputs": [],
   "source": [
    "fig, axs = plt.subplots(12,12,figsize=(50,50))\n",
    "for i in range(12):\n",
    "    for j in range(12):\n",
    "        axs[i,j].imshow(transform.global_transfo1(im).permute(1,2,0).numpy())\n",
    "plt.show()"
   ]
  },
  {
   "cell_type": "markdown",
   "metadata": {},
   "source": [
    "## Local data augmentation"
   ]
  },
  {
   "cell_type": "code",
   "execution_count": null,
   "metadata": {},
   "outputs": [],
   "source": [
    "fig, axs = plt.subplots(12,12,figsize=(50,50))\n",
    "for i in range(12):\n",
    "    for j in range(12):\n",
    "        axs[i,j].imshow(transform.local_transfo(im).permute(1,2,0).numpy())\n",
    "plt.show()"
   ]
  },
  {
   "cell_type": "markdown",
   "metadata": {},
   "source": [
    "## Remove RRC"
   ]
  },
  {
   "cell_type": "code",
   "execution_count": null,
   "metadata": {},
   "outputs": [],
   "source": [
    "transform.global_transfo1 = Compose(transform.global_transfo1.transforms[:4])\n",
    "transform.global_transfo2 = Compose(transform.global_transfo2.transforms[:4])\n",
    "transform.local_transfo = Compose(transform.local_transfo.transforms[:4])"
   ]
  },
  {
   "cell_type": "code",
   "execution_count": null,
   "metadata": {},
   "outputs": [],
   "source": [
    "transform.global_transfo1"
   ]
  },
  {
   "cell_type": "markdown",
   "metadata": {},
   "source": [
    "## First Global data augmentation without brightness and contrast"
   ]
  },
  {
   "cell_type": "code",
   "execution_count": null,
   "metadata": {},
   "outputs": [],
   "source": [
    "fig, axs = plt.subplots(12,12,figsize=(50,50))\n",
    "for i in range(12):\n",
    "    for j in range(12):\n",
    "        tensor_im = transform.global_transfo1(im)\n",
    "        print((i,j))\n",
    "        print(tensor_im.mean(dim=(-1,-2)))\n",
    "        print(tensor_im.max())\n",
    "        print(tensor_im.min())\n",
    "        axs[i,j].imshow(tensor_im.permute(1,2,0).numpy())\n",
    "plt.show()"
   ]
  },
  {
   "cell_type": "code",
   "execution_count": null,
   "metadata": {},
   "outputs": [],
   "source": []
  }
 ],
 "metadata": {
  "kernelspec": {
   "display_name": "Python 3 (ipykernel)",
   "language": "python",
   "name": "python3"
  },
  "language_info": {
   "codemirror_mode": {
    "name": "ipython",
    "version": 3
   },
   "file_extension": ".py",
   "mimetype": "text/x-python",
   "name": "python",
   "nbconvert_exporter": "python",
   "pygments_lexer": "ipython3",
   "version": "3.9.15"
  }
 },
 "nbformat": 4,
 "nbformat_minor": 4
}
