{
 "cells": [
  {
   "cell_type": "markdown",
   "id": "1395efe0",
   "metadata": {},
   "source": [
    "### Reproduce kaggle notebook\n",
    "\n",
    "#### Assumptions: \n",
    "1. We have a trained feature extractor saved in `/scr/mdoron/Dino4Cells/models/data-fixed_size_masked/fixed_unmasked_checkpoint0100.pth`\n",
    "2. The feature extractor was trained on fixed, unmasked cells who were segmented with Cellpose\n",
    "3. The feature extractor was trained without self-normalization"
   ]
  },
  {
   "cell_type": "code",
   "execution_count": 22,
   "id": "3442354a",
   "metadata": {},
   "outputs": [],
   "source": [
    "# Imports\n",
    "import os\n",
    "from pathlib import Path"
   ]
  },
  {
   "cell_type": "markdown",
   "id": "54082b00",
   "metadata": {},
   "source": [
    "### Training classifier head"
   ]
  },
  {
   "cell_type": "markdown",
   "id": "36ad74c8",
   "metadata": {},
   "source": [
    "##### Slow training with dynamic feature extraction:"
   ]
  },
  {
   "cell_type": "code",
   "execution_count": 4,
   "id": "82305073",
   "metadata": {},
   "outputs": [],
   "source": [
    "config_path = 'configs/config_train_classifier_head_single_cells.yaml'\n",
    "feature_extractor_path = '/scr/mdoron/Dino4Cells/models/data-fixed_size_masked/fixed_unmasked_checkpoint0100.pth'\n",
    "\n",
    "os.system(f'''python run_end_to_end.py --config {config_path} --gpus 0,1,2,3 \n",
    "          --feature_extractor_state_dict {feature_extractor_path}\n",
    "          --use_pretrained_features False\n",
    "          ''')\n",
    "\n",
    "assert(Path(f\"{config['classification']['output_dir']/config['classification']['output_prefix']}/classifier_final.pth\").exists())"
   ]
  },
  {
   "cell_type": "markdown",
   "id": "c98a62f3",
   "metadata": {},
   "source": [
    "##### Faster training with state features:"
   ]
  },
  {
   "cell_type": "markdown",
   "id": "65cb73f6",
   "metadata": {},
   "source": [
    "First, extracting the features, saving them to `configs['embedding']['output_path']`"
   ]
  },
  {
   "cell_type": "code",
   "execution_count": null,
   "id": "57f89f5a",
   "metadata": {},
   "outputs": [],
   "source": [
    "# Extracting the features, saving them to `configs['embedding']['output_path']`\n",
    "os.system(f'CUDA_VISIBLE_DEVICES=0,1,2,3 python run_get_features.py --config {config_path} --gpus 0,1,2,3')\n",
    "train_path = '/scr/mdoron/Dino4Cells/models/without-norm-fixed-unmasked-mom-0.996-epoch-100/train_features_averaged.pth'\n",
    "valid_path = '/scr/mdoron/Dino4Cells/models/without-norm-fixed-unmasked-mom-0.996-epoch-100/valid_features_averaged.pth'\n",
    "\n",
    "# Average-pooling the features, saving them in `train_path` and `valid_path`\n",
    "os.system(f'python prepare_averaged_features.py --config {config_path} --train_path {train_path} --valid_path {valid_path}')\n",
    "\n",
    "assert(Path(train_path).exists())\n",
    "assert(Path(valid_path).exists())"
   ]
  },
  {
   "cell_type": "markdown",
   "id": "36088292",
   "metadata": {},
   "source": [
    "Then, train a classifier head with static features"
   ]
  },
  {
   "cell_type": "code",
   "execution_count": null,
   "id": "0d18a94c",
   "metadata": {},
   "outputs": [],
   "source": [
    "# training classifier head\n",
    "os.system(f'''python run_end_to_end.py --config {config_path} --gpus 0,1,2,3 \n",
    "          --use_pretrained_features True\n",
    "          --train_path \n",
    "          --valid_path \n",
    "          ''')\n",
    "\n",
    "assert(Path(f\"{config['classification']['output_dir']/config['classification']['output_prefix']}/classifier_final.pth\").exists())"
   ]
  },
  {
   "cell_type": "markdown",
   "id": "7d522e18",
   "metadata": {},
   "source": [
    "Both dynamic and static options will save the classifier head state dict to `config['classification']['output_dir']['output_prefix']/classifier_final.pth`"
   ]
  },
  {
   "cell_type": "code",
   "execution_count": 24,
   "id": "8bcc2565",
   "metadata": {},
   "outputs": [
    {
     "ename": "AssertionError",
     "evalue": "",
     "output_type": "error",
     "traceback": [
      "\u001b[0;31m---------------------------------------------------------------------------\u001b[0m",
      "\u001b[0;31mAssertionError\u001b[0m                            Traceback (most recent call last)",
      "Input \u001b[0;32mIn [24]\u001b[0m, in \u001b[0;36m<cell line: 1>\u001b[0;34m()\u001b[0m\n\u001b[0;32m----> 1\u001b[0m \u001b[38;5;28;01massert\u001b[39;00m(Path(\u001b[38;5;124mf\u001b[39m\u001b[38;5;124m\"\u001b[39m\u001b[38;5;132;01m{\u001b[39;00mconfig[\u001b[38;5;124m'\u001b[39m\u001b[38;5;124mclassification\u001b[39m\u001b[38;5;124m'\u001b[39m][\u001b[38;5;124m'\u001b[39m\u001b[38;5;124moutput_dir\u001b[39m\u001b[38;5;124m'\u001b[39m]\u001b[38;5;132;01m}\u001b[39;00m\u001b[38;5;124m/\u001b[39m\u001b[38;5;132;01m{\u001b[39;00mconfig[\u001b[38;5;124m'\u001b[39m\u001b[38;5;124mclassification\u001b[39m\u001b[38;5;124m'\u001b[39m][\u001b[38;5;124m'\u001b[39m\u001b[38;5;124moutput_prefix\u001b[39m\u001b[38;5;124m'\u001b[39m]\u001b[38;5;132;01m}\u001b[39;00m\u001b[38;5;124m/classifier_final.pth\u001b[39m\u001b[38;5;124m\"\u001b[39m)\u001b[38;5;241m.\u001b[39mexists())\n",
      "\u001b[0;31mAssertionError\u001b[0m: "
     ]
    }
   ],
   "source": [
    "assert(Path(f\"{config['classification']['output_dir']}/{config['classification']['output_prefix']}/classifier_final.pth\").exists())"
   ]
  },
  {
   "cell_type": "markdown",
   "id": "e621d350",
   "metadata": {},
   "source": [
    "### Extracting kaggle test features"
   ]
  },
  {
   "cell_type": "markdown",
   "id": "4fb0a463",
   "metadata": {},
   "source": [
    "### Producing kaggle submission file"
   ]
  },
  {
   "cell_type": "code",
   "execution_count": 25,
   "id": "a66f43b0",
   "metadata": {},
   "outputs": [
    {
     "data": {
      "text/plain": [
       "'/scr/mdoron/Dino4Cells/results//single_cell_fixed_masked_simpleClf/classifier_final.pth'"
      ]
     },
     "execution_count": 25,
     "metadata": {},
     "output_type": "execute_result"
    }
   ],
   "source": [
    "os.system('python run_end_to_end.py --config {config_path} --gpus 0,1,2,3')"
   ]
  },
  {
   "cell_type": "code",
   "execution_count": 13,
   "id": "d229b72d",
   "metadata": {},
   "outputs": [
    {
     "name": "stdout",
     "output_type": "stream",
     "text": [
      "{'averaged_features': '/scr/mdoron/Dino4Cells/supervised_vit_512/features.pth',\n",
      " 'balance': True,\n",
      " 'batch_size_per_gpu': 512,\n",
      " 'cell_type_classifier': '/scr/mdoron/Dino4Cells/supervised_vit_512/cell_type_classifier.pth',\n",
      " 'classifier_state_dict': '/scr/mdoron/Dino4Cells/results//single_cell_fixed_masked/SimpleClf_e1_lr1e-3_div25_wd1e-4_p0.5_BCELoss_v1_checkpoint_final.pth',\n",
      " 'classifier_type': 'simple_clf',\n",
      " 'competition_type': 'single_cells',\n",
      " 'dropout': 0.5,\n",
      " 'early_stopping': -1,\n",
      " 'epochs': 10,\n",
      " 'feature_extractor_state_dict': None,\n",
      " 'infer_test_data': False,\n",
      " 'loss': 'BCEWithLogitsLoss',\n",
      " 'lr': 0.0001,\n",
      " 'min_lr': '1e-6',\n",
      " 'n_layers': 2,\n",
      " 'n_units': 1024,\n",
      " 'num_classes': 19,\n",
      " 'num_workers': 14,\n",
      " 'optimizer': 'AdamW',\n",
      " 'output_dir': '/scr/mdoron/Dino4Cells/results/',\n",
      " 'output_prefix': 'single_cell_fixed_masked_simpleClf',\n",
      " 'overwrite': True,\n",
      " 'prepare_kaggle_submission': True,\n",
      " 'protein_classifier': '/scr/mdoron/Dino4Cells/supervised_vit_512/protein_classifier.pth',\n",
      " 'protein_task': 'full',\n",
      " 'schedule': 'Cosine',\n",
      " 'single_cells': True,\n",
      " 'skip': False,\n",
      " 'test_path': '/scr/mdoron/Dino4Cells/results/data-fixed_size_masked/test_features.pth',\n",
      " 'train_cell_type': False,\n",
      " 'train_classifier_head': False,\n",
      " 'train_feature_extractor': False,\n",
      " 'train_path': '/scr/mdoron/Dino4Cells/results/data-fixed_size_masked/train_features_averaged.pth',\n",
      " 'train_protein': True,\n",
      " 'train_statistics': '/scr/mdoron/Dino4Cells/supervised_vit_512/balanced_statistics.npy',\n",
      " 'training_features_paths_list': ['/scr/mdoron/Dino4Cells/supervised_vit_512/features.pth'],\n",
      " 'use_pretrained_cell_type_classifier': False,\n",
      " 'use_pretrained_features': True,\n",
      " 'use_pretrained_protein_classifier': False,\n",
      " 'valid_path': '/scr/mdoron/Dino4Cells/results/data-fixed_size_masked/valid_features_averaged.pth',\n",
      " 'verbose': True,\n",
      " 'wd': 0.04,\n",
      " 'wd_end': 0.4,\n",
      " 'whole_images': False}\n"
     ]
    }
   ],
   "source": [
    "from pprint import pprint\n",
    "pprint(config['classification'])"
   ]
  },
  {
   "cell_type": "code",
   "execution_count": 30,
   "id": "c1a4a89c",
   "metadata": {},
   "outputs": [
    {
     "data": {
      "text/plain": [
       "array([[[ 15,   0,   0,   0],\n",
       "        [ 13,   0,   0,   0],\n",
       "        [ 11,   2,   0,   0],\n",
       "        ...,\n",
       "        [  0,   0,   0,   0],\n",
       "        [  0,   0,   0,   0],\n",
       "        [  0,   0,   0,   0]],\n",
       "\n",
       "       [[ 12,   9,   0,   1],\n",
       "        [ 14,   1,   0,   4],\n",
       "        [ 13,   6,   0,   0],\n",
       "        ...,\n",
       "        [  0,   0,   0,   0],\n",
       "        [  0,   0,   0,   0],\n",
       "        [  0,   0,   0,   0]],\n",
       "\n",
       "       [[ 14,   3,   0,   1],\n",
       "        [ 14,   8,   0,   0],\n",
       "        [ 12,   5,   0,   0],\n",
       "        ...,\n",
       "        [  0,   0,   0,   0],\n",
       "        [  0,   0,   0,   0],\n",
       "        [  0,   0,   0,   0]],\n",
       "\n",
       "       ...,\n",
       "\n",
       "       [[  0,   0,   0,   0],\n",
       "        [  0,   0,   0,   0],\n",
       "        [  0,   0,   0,   0],\n",
       "        ...,\n",
       "        [ 32,  25,   0,  56],\n",
       "        [ 24,  14,   0,  32],\n",
       "        [ 19,   4,   0,  19]],\n",
       "\n",
       "       [[  0,   0,   0,   0],\n",
       "        [  0,   0,   0,   0],\n",
       "        [  0,   0,   0,   0],\n",
       "        ...,\n",
       "        [ 29,   6,   0, 102],\n",
       "        [ 24,   6,   0,  80],\n",
       "        [ 23,  35,   0,  59]],\n",
       "\n",
       "       [[  0,   0,   0,   0],\n",
       "        [  0,   0,   0,   0],\n",
       "        [  0,   0,   0,   0],\n",
       "        ...,\n",
       "        [ 27,   9,   0,  53],\n",
       "        [ 24,  27,   0,  36],\n",
       "        [ 29,  14,   0,  37]]], dtype=uint8)"
      ]
     },
     "execution_count": 30,
     "metadata": {},
     "output_type": "execute_result"
    }
   ],
   "source": [
    "from skimage import io\n",
    "io.imread('/scr/mdoron/Dino4Cells/data/single_cell_test_data_varied_unmasked/0040581b-f1f2-4fbe-b043-b6bfea5404bb_1.png')"
   ]
  }
 ],
 "metadata": {
  "kernelspec": {
   "display_name": "Python 3 (ipykernel)",
   "language": "python",
   "name": "python3"
  },
  "language_info": {
   "codemirror_mode": {
    "name": "ipython",
    "version": 3
   },
   "file_extension": ".py",
   "mimetype": "text/x-python",
   "name": "python",
   "nbconvert_exporter": "python",
   "pygments_lexer": "ipython3",
   "version": "3.9.15"
  }
 },
 "nbformat": 4,
 "nbformat_minor": 5
}
