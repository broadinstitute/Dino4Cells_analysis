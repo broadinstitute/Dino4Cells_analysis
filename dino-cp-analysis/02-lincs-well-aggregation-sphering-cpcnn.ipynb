{
 "cells": [
  {
   "cell_type": "code",
   "execution_count": null,
   "metadata": {
    "pycharm": {
     "name": "#%%\n"
    }
   },
   "outputs": [],
   "source": [
    "import pandas as pd\n",
    "import numpy as np\n",
    "import sklearn.metrics\n",
    "import os\n",
    "import sys\n",
    "\n",
    "from tqdm import tqdm\n",
    "\n",
    "sys.path.append(\"../profiling/\")\n",
    "import profiling"
   ]
  },
  {
   "cell_type": "code",
   "execution_count": null,
   "metadata": {
    "pycharm": {
     "name": "#%%\n"
    }
   },
   "outputs": [],
   "source": [
    "PROJECT_ROOT = ''\n",
    "EXP = \"cell_painting_CNN\"\n",
    "\n",
    "df_path = 'Cell_Painting_data/enriched_index_max_concentration.csv'\n",
    "\n",
    "output_folder = 'data'\n",
    "output_file = \"well_level_profiles_cpcnn_LINCS_1e-5_final.csv\"\n",
    "REG_PARAM = 1e-5"
   ]
  },
  {
   "cell_type": "code",
   "execution_count": null,
   "metadata": {},
   "outputs": [],
   "source": [
    "# Load metadata\n",
    "meta = pd.read_csv(os.path.join(PROJECT_ROOT, df_path))"
   ]
  },
  {
   "cell_type": "markdown",
   "metadata": {},
   "source": [
    "# 1. Load single-cell data"
   ]
  },
  {
   "cell_type": "code",
   "execution_count": null,
   "metadata": {
    "pycharm": {
     "name": "#%%\n"
    }
   },
   "outputs": [],
   "source": [
    "features = []\n",
    "channels = ['DNA','RNA', 'ER', 'AGP', 'Mito']\n",
    "for i in tqdm(meta.index):\n",
    "    filename = PROJECT_ROOT + \"outputs/\" + EXP + \"/features/{}/{}/{}.npz\"\n",
    "    filename = filename.format(\n",
    "        meta.loc[i, \"Metadata_Plate\"],\n",
    "        meta.loc[i, \"Metadata_Well\"],\n",
    "        meta.loc[i, \"Metadata_Site\"],\n",
    "    )\n",
    "    if os.path.isfile(filename):\n",
    "        with open(filename, \"rb\") as data:\n",
    "            info = np.load(data)\n",
    "            features.append(info[\"features\"])\n",
    "    else:\n",
    "        features.append([])"
   ]
  },
  {
   "cell_type": "code",
   "execution_count": null,
   "metadata": {},
   "outputs": [],
   "source": [
    "total_single_cells = 0\n",
    "for i in range(len(features)):\n",
    "    if len(features[i]) > 0:\n",
    "        total_single_cells += features[i].shape[0]\n",
    "\n",
    "num_features = features[0].shape[1]\n",
    "print(\"Total images\",len(features),features[0].shape)\n",
    "print(\"Total single cells:\", total_single_cells)"
   ]
  },
  {
   "cell_type": "markdown",
   "metadata": {},
   "source": [
    "# 2. Site-level profiles / Median Aggregation"
   ]
  },
  {
   "cell_type": "code",
   "execution_count": null,
   "metadata": {
    "pycharm": {
     "name": "#%%\n"
    }
   },
   "outputs": [],
   "source": [
    "site_level_data = []\n",
    "site_level_features = []\n",
    "\n",
    "for plate in tqdm(meta[\"Metadata_Plate\"].unique()):\n",
    "    m1 = meta[\"Metadata_Plate\"] == plate\n",
    "    wells = meta[m1][\"Metadata_Well\"].unique()\n",
    "    for well in wells:\n",
    "        result = meta.query(\"Metadata_Plate == '{}' and Metadata_Well == '{}'\".format(plate, well))\n",
    "        for i in result.index:\n",
    "            if len(features[i]) == 0:\n",
    "                continue\n",
    "            mean_profile = np.median(features[i], axis=0)\n",
    "            Treatment = result[\"Treatment\"].unique()\n",
    "            broad_sample = result[\"Metadata_broad_sample\"].unique()\n",
    "            site_level_data.append(\n",
    "                {\n",
    "                    \"Plate\": plate,\n",
    "                    \"Well\": well,\n",
    "                    \"Treatment\": Treatment[0],\n",
    "                    \"broad_sample\": broad_sample[0]\n",
    "                }\n",
    "            )\n",
    "            site_level_features.append(mean_profile)"
   ]
  },
  {
   "cell_type": "code",
   "execution_count": null,
   "metadata": {},
   "outputs": [],
   "source": [
    "num_features = features[0].shape[1]\n",
    "columns1 = [\"Plate\", \"Well\", \"Treatment\", \"broad_sample\"]\n",
    "columns2 = [i for i in range(num_features)]\n",
    "\n",
    "sites1 = pd.DataFrame(columns=columns1, data=site_level_data)\n",
    "sites2 = pd.DataFrame(columns=columns2, data=site_level_features)\n",
    "sites = pd.concat([sites1, sites2], axis=1)\n",
    "sites.shape"
   ]
  },
  {
   "cell_type": "markdown",
   "metadata": {},
   "source": [
    "# 3. Well-level profiles / Mean Aggregation"
   ]
  },
  {
   "cell_type": "code",
   "execution_count": null,
   "metadata": {},
   "outputs": [],
   "source": [
    "# Collapse well data\n",
    "wells = sites.groupby([\"Plate\", \"Well\", \"Treatment\", \"broad_sample\"]).mean().reset_index()\n",
    "wells = wells[columns1 + columns2]\n",
    "wells.to_csv(f'{output_folder}/Wells_Prewhitened_CPCNN_LINCS.csv', index=False)\n",
    "wells.shape"
   ]
  },
  {
   "cell_type": "markdown",
   "metadata": {},
   "source": [
    "# 4. Whitening"
   ]
  },
  {
   "cell_type": "code",
   "execution_count": null,
   "metadata": {
    "pycharm": {
     "name": "#%%\n"
    },
    "scrolled": true
   },
   "outputs": [],
   "source": [
    "whN = profiling.WhiteningNormalizer(wells.loc[wells[\"Treatment\"].isin([\"DMSO@NA\"]), \n",
    "                                              columns2], REG_PARAM)\n",
    "\n",
    "whD = whN.normalize(wells[columns2])"
   ]
  },
  {
   "cell_type": "code",
   "execution_count": null,
   "metadata": {},
   "outputs": [],
   "source": [
    "# Save whitened profiles\n",
    "wells[columns2] = whD\n",
    "wells.to_csv(f'{output_folder}/{output_file}', index=False)"
   ]
  }
 ],
 "metadata": {
  "kernelspec": {
   "display_name": "Python 3 (ipykernel)",
   "language": "python",
   "name": "python3"
  },
  "language_info": {
   "codemirror_mode": {
    "name": "ipython",
    "version": 3
   },
   "file_extension": ".py",
   "mimetype": "text/x-python",
   "name": "python",
   "nbconvert_exporter": "python",
   "pygments_lexer": "ipython3",
   "version": "3.9.15"
  }
 },
 "nbformat": 4,
 "nbformat_minor": 4
}
