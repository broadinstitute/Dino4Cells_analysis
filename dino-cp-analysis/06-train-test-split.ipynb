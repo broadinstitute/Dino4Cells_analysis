{
 "cells": [
  {
   "cell_type": "markdown",
   "id": "fd4f3ccb",
   "metadata": {},
   "source": [
    "### Split features into training and testing based on compounds"
   ]
  },
  {
   "cell_type": "code",
   "execution_count": null,
   "id": "eae23e41",
   "metadata": {},
   "outputs": [],
   "source": [
    "import os\n",
    "import requests\n",
    "import pickle\n",
    "import argparse\n",
    "import pandas as pd\n",
    "import numpy as np\n",
    "import re\n",
    "from os import walk\n",
    "from collections import Counter\n",
    "import random\n",
    "import shutil"
   ]
  },
  {
   "cell_type": "code",
   "execution_count": null,
   "id": "4df38131-7dde-44df-ae15-2f4c955d3bff",
   "metadata": {},
   "outputs": [],
   "source": [
    "def create_targets(df, cols=\"moa\", drop_dummy=True):\n",
    "    \"\"\"Create the binary multi-label targets for each compound\"\"\"\n",
    "    df['val'] = 1\n",
    "    df_targets = pd.pivot_table(\n",
    "        df,\n",
    "        values=['val'],\n",
    "        index='pert_iname',\n",
    "        columns=[cols],\n",
    "        fill_value=0\n",
    "    )\n",
    "    \n",
    "    df_targets.columns.names = (None,None)\n",
    "    df_targets.columns = df_targets.columns.droplevel(0)\n",
    "    \n",
    "    df_targets = df_targets.reset_index().rename({'index':'pert_iname'}, axis = 1)\n",
    "    \n",
    "    if drop_dummy:\n",
    "        df_targets = df_targets.drop(columns=[\"dummy\"])\n",
    "        \n",
    "    return df_targets\n",
    "\n",
    "\n",
    "def train_test_split(train_cpds, test_cpds, df):\n",
    "    df_trn = df.loc[df['pert_iname'].isin(train_cpds)].reset_index(drop=True)\n",
    "    df_tst = df.loc[df['pert_iname'].isin(test_cpds)].reset_index(drop=True)\n",
    "    return df_trn, df_tst\n",
    "\n",
    "\n",
    "def create_shuffle_data(df_trn, target_cols):\n",
    "    \"\"\"Create shuffled train data where the replicates of each compound are given wrong target labels\"\"\"\n",
    "    df_trn_cpy = df_trn.copy()\n",
    "    df_trn_tgts = df_trn_cpy[target_cols].copy()\n",
    "    rand_df = pd.DataFrame(np.random.permutation(df_trn_tgts), columns=df_trn_tgts.columns.tolist())\n",
    "    df_trn_cpy.drop(target_cols, axis = 1, inplace = True)\n",
    "    df_trn_cpy = pd.concat([df_trn_cpy, rand_df], axis = 1)\n",
    "    return df_trn_cpy\n",
    "\n",
    "def save_to_csv(df, path, file_name, compress=None):\n",
    "    \"\"\"saves dataframes to csv\"\"\"\n",
    "    \n",
    "    if not os.path.exists(path):\n",
    "        os.mkdir(path)\n",
    "    \n",
    "    df.to_csv(os.path.join(path, file_name), index=False, compression=compress)"
   ]
  },
  {
   "cell_type": "code",
   "execution_count": null,
   "id": "cceb8969-2096-4f90-aef2-50b96ca7af5a",
   "metadata": {},
   "outputs": [],
   "source": [
    "cp_data_path = 'data/'\n",
    "cpd_split_path = 'data/'\n",
    "\n",
    "# file name of features\n",
    "file_cp = \"_cellprofiler_final\"\n",
    "file_cnn = \"_CNN_final\"\n",
    "file_dino = \"_dino_final\""
   ]
  },
  {
   "cell_type": "code",
   "execution_count": null,
   "id": "3c9abf3c",
   "metadata": {},
   "outputs": [],
   "source": [
    "df_cellprofiler = pd.read_csv(\n",
    "    os.path.join(cp_data_path, f'cp{file_cp}.csv'),\n",
    "    low_memory = False\n",
    ")\n",
    "\n",
    "df_cnn = pd.read_csv(\n",
    "    os.path.join(cp_data_path, f'cp{file_cnn}.csv'),\n",
    "    low_memory = False\n",
    ")\n",
    "\n",
    "df_dino = pd.read_csv(\n",
    "    os.path.join(cp_data_path, f'cp{file_dino}.csv'),\n",
    "    low_memory = False\n",
    ")\n",
    "\n",
    "print(df_cellprofiler.shape, df_cnn.shape, df_dino.shape)"
   ]
  },
  {
   "cell_type": "code",
   "execution_count": null,
   "id": "cf4d96f7-b5a5-4469-8a20-69c28807db03",
   "metadata": {},
   "outputs": [],
   "source": [
    "df_cpds_moas_lincs = pd.read_csv(os.path.join(cpd_split_path, f'split_moas_cpds_final.csv'))"
   ]
  },
  {
   "cell_type": "code",
   "execution_count": null,
   "id": "c5773bb5",
   "metadata": {},
   "outputs": [],
   "source": [
    "print(df_cpds_moas_lincs.shape)\n",
    "print(len(df_cpds_moas_lincs.pert_iname.unique()))\n",
    "df_cpds_moas_lincs.head()"
   ]
  },
  {
   "cell_type": "code",
   "execution_count": null,
   "id": "c50b362a",
   "metadata": {},
   "outputs": [],
   "source": [
    "all_cpds = df_cpds_moas_lincs['pert_iname'].unique()"
   ]
  },
  {
   "cell_type": "code",
   "execution_count": null,
   "id": "a44fa585-6148-4f4a-a747-826b189283f0",
   "metadata": {},
   "outputs": [],
   "source": [
    "df_cellprofiler = df_cellprofiler.loc[df_cellprofiler['pert_iname'].isin(all_cpds)].reset_index(drop=True)\n",
    "df_cnn = df_cnn.loc[df_cnn['pert_iname'].isin(all_cpds)].reset_index(drop=True)\n",
    "df_dino = df_dino.loc[df_dino['pert_iname'].isin(all_cpds)].reset_index(drop=True)\n",
    "\n",
    "print(df_cellprofiler.shape, df_cnn.shape, df_dino.shape)"
   ]
  },
  {
   "cell_type": "code",
   "execution_count": null,
   "id": "1494cf3d-fa50-4a09-8d62-2a63c73b6be9",
   "metadata": {},
   "outputs": [],
   "source": [
    "df_cpds_moas = df_cpds_moas_lincs.copy()\n",
    "df_cpds_moas.loc[:, 'moa'] = df_cpds_moas.loc[:,'moa'].fillna(\"dummy\")\n",
    "    \n",
    "print(len(df_cpds_moas['moa'].unique()))"
   ]
  },
  {
   "cell_type": "code",
   "execution_count": null,
   "id": "bf67de14",
   "metadata": {},
   "outputs": [],
   "source": [
    "df_moa_targets = create_targets(df_cpds_moas, cols='moa', drop_dummy=False)\n",
    "df_moa_targets"
   ]
  },
  {
   "cell_type": "code",
   "execution_count": null,
   "id": "353aab11",
   "metadata": {},
   "outputs": [],
   "source": [
    "df_cellprofiler = df_cellprofiler.merge(df_moa_targets, on='pert_iname')\n",
    "df_cnn = df_cnn.merge(df_moa_targets, on='pert_iname')\n",
    "df_dino = df_dino.merge(df_moa_targets, on='pert_iname')\n",
    "\n",
    "print(df_cellprofiler.shape, df_cnn.shape, df_dino.shape)"
   ]
  },
  {
   "cell_type": "markdown",
   "id": "1567ca88",
   "metadata": {},
   "source": [
    "### - compounds split (80/20) based on MOAs -- based on split_moas_cpds"
   ]
  },
  {
   "cell_type": "code",
   "execution_count": null,
   "id": "c2f50646",
   "metadata": {},
   "outputs": [],
   "source": [
    "train_cpds = df_cpds_moas_lincs[df_cpds_moas_lincs['train']]['pert_iname'].unique()\n",
    "test_cpds = df_cpds_moas_lincs[df_cpds_moas_lincs['test']]['pert_iname'].unique()\n",
    "\n",
    "print(len(train_cpds), len(test_cpds))"
   ]
  },
  {
   "cell_type": "code",
   "execution_count": null,
   "id": "dad47b42",
   "metadata": {},
   "outputs": [],
   "source": [
    "df_cellprofiler_trn, df_cellprofiler_tst = train_test_split(train_cpds, test_cpds, df_cellprofiler)\n",
    "df_dino_trn, df_dino_tst = train_test_split(train_cpds, test_cpds, df_dino)\n",
    "df_cnn_trn, df_cnn_tst = train_test_split(train_cpds, test_cpds, df_cnn)"
   ]
  },
  {
   "cell_type": "code",
   "execution_count": null,
   "id": "59611c02",
   "metadata": {},
   "outputs": [],
   "source": [
    "print(df_cellprofiler_trn.shape, df_cellprofiler_tst.shape)\n",
    "print(df_dino_trn.shape, df_dino_tst.shape)\n",
    "print(df_cnn_trn.shape, df_cnn_tst.shape)"
   ]
  },
  {
   "cell_type": "markdown",
   "id": "8b82dc95",
   "metadata": {},
   "source": [
    "### - Shuffle train data - 2nd train data\n",
    "#### - Shuffle the target labels in the train data so that replicates of the same compound/MOA have different MOA labels"
   ]
  },
  {
   "cell_type": "code",
   "execution_count": null,
   "id": "12df33a2",
   "metadata": {},
   "outputs": [],
   "source": [
    "target_cols = df_moa_targets.columns[1:]"
   ]
  },
  {
   "cell_type": "code",
   "execution_count": null,
   "id": "313fd419",
   "metadata": {},
   "outputs": [],
   "source": [
    "df_cellprofiler_trn_shuf = create_shuffle_data(df_cellprofiler_trn, target_cols)\n",
    "df_cellprofiler_tst_shuf = create_shuffle_data(df_cellprofiler_tst, target_cols) \n",
    "\n",
    "df_dino_trn_shuf = create_shuffle_data(df_dino_trn, target_cols)\n",
    "df_dino_tst_shuf = create_shuffle_data(df_dino_tst, target_cols) \n",
    "\n",
    "df_cnn_trn_shuf = create_shuffle_data(df_cnn_trn, target_cols)\n",
    "df_cnn_tst_shuf = create_shuffle_data(df_cnn_tst, target_cols) "
   ]
  },
  {
   "cell_type": "markdown",
   "id": "a6810286",
   "metadata": {},
   "source": [
    "#### - Save to CSV"
   ]
  },
  {
   "cell_type": "code",
   "execution_count": null,
   "id": "f19bc6a2",
   "metadata": {},
   "outputs": [],
   "source": [
    "save_to_csv(df_cellprofiler_trn, \"model_data/\", f'train_data{file_cp}.csv.gz', compress=\"gzip\")\n",
    "save_to_csv(df_cellprofiler_tst, \"model_data/\", f'test_data{file_cp}.csv.gz', compress=\"gzip\")\n",
    "\n",
    "save_to_csv(df_cnn_trn, \"model_data/\", f'train_data{file_cnn}.csv.gz', compress=\"gzip\")\n",
    "save_to_csv(df_cnn_tst, \"model_data/\", f'test_data{file_cnn}.csv.gz', compress=\"gzip\")\n",
    "\n",
    "save_to_csv(df_dino_trn, \"model_data/\", f'train_data{file_dino}.csv.gz', compress=\"gzip\")\n",
    "save_to_csv(df_dino_tst, \"model_data/\", f'test_data{file_dino}.csv.gz', compress=\"gzip\")\n",
    "\n",
    "save_to_csv(df_cellprofiler_trn_shuf, \"model_data/\", \n",
    "            f'train_shuffle_data{file_cp}.csv.gz', compress=\"gzip\")\n",
    "save_to_csv(df_cellprofiler_tst_shuf, \"model_data/\", \n",
    "            f'test_shuffle_data{file_cp}.csv.gz', compress=\"gzip\")\n",
    "\n",
    "save_to_csv(df_cnn_trn_shuf,  \"model_data/\", \n",
    "            f'train_shuffle_data{file_cnn}.csv.gz', compress=\"gzip\")\n",
    "save_to_csv(df_cnn_tst_shuf,  \"model_data/\", \n",
    "            f'test_shuffle_data{file_cnn}.csv.gz', compress=\"gzip\")\n",
    "\n",
    "save_to_csv(df_dino_trn_shuf,  \"model_data/\", \n",
    "            f'train_shuffle_data{file_dino}.csv.gz', compress=\"gzip\")\n",
    "save_to_csv(df_dino_tst_shuf,  \"model_data/\", \n",
    "            f'test_shuffle_data{file_dino}.csv.gz', compress=\"gzip\")\n"
   ]
  },
  {
   "cell_type": "code",
   "execution_count": null,
   "id": "064ce9fa",
   "metadata": {},
   "outputs": [],
   "source": [
    "save_to_csv(df_moa_targets, \"model_data/\", f'target_labels_final.csv')"
   ]
  }
 ],
 "metadata": {
  "kernelspec": {
   "display_name": "Python 3 (ipykernel)",
   "language": "python",
   "name": "python3"
  },
  "language_info": {
   "codemirror_mode": {
    "name": "ipython",
    "version": 3
   },
   "file_extension": ".py",
   "mimetype": "text/x-python",
   "name": "python",
   "nbconvert_exporter": "python",
   "pygments_lexer": "ipython3",
   "version": "3.9.15"
  }
 },
 "nbformat": 4,
 "nbformat_minor": 5
}
