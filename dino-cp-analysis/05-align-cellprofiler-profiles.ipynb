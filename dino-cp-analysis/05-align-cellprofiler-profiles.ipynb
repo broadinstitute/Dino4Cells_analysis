{
 "cells": [
  {
   "cell_type": "markdown",
   "metadata": {},
   "source": [
    "### - Split Compounds into Train & Test data based on the number of MOAs that are attributed to them."
   ]
  },
  {
   "cell_type": "markdown",
   "metadata": {},
   "source": [
    "This script is adapted from Gregory Way, Adeniyi Adeboye, & Shantanu Singh. (2022). broadinstitute/lincs-profiling-complementarity: Response to Reviewers (Version v2). Zenodo. https://doi.org/10.5281/zenodo.6522802"
   ]
  },
  {
   "cell_type": "code",
   "execution_count": null,
   "metadata": {},
   "outputs": [],
   "source": [
    "import os\n",
    "import pathlib\n",
    "import requests\n",
    "import pickle\n",
    "import argparse\n",
    "import pandas as pd\n",
    "import numpy as np\n",
    "import re\n",
    "from os import walk\n",
    "from collections import Counter\n",
    "import random\n",
    "import shutil\n",
    "from split_compounds import split_cpds_moas"
   ]
  },
  {
   "cell_type": "markdown",
   "metadata": {},
   "source": [
    "## 1. Select max dose for Cell Profiler"
   ]
  },
  {
   "cell_type": "code",
   "execution_count": null,
   "metadata": {},
   "outputs": [],
   "source": [
    "# Copy well level profiles to '../source_data'\n",
    "# Load Data file for Our Experiment\n",
    "df_dino = pd.read_csv(\"data/well_level_profiles_vits_LINCS_1e-5_final.csv\")\n",
    "df_CNN = pd.read_csv('data/well_level_profiles_cpcnn_LINCS_1e-5_final.csv')\n",
    "print(df_dino.shape, df_CNN.shape)"
   ]
  },
  {
   "cell_type": "code",
   "execution_count": null,
   "metadata": {},
   "outputs": [],
   "source": [
    "# Load CellProfiler's datafile\n",
    "data_path = 'data/'\n",
    "\n",
    "# Download cp_level4_cpd_replicates.csv.gz from https://github.com/broadinstitute/lincs-profiling-complementarity/blob/master/1.Data-exploration/Profiles_level4/cell_painting/cellpainting_lvl4_cpd_replicate_datasets/cp_level4_cpd_replicates.csv.gz\n",
    "df_cellprofiler = pd.read_csv(\n",
    "    os.path.join(data_path, 'cp_level4_cpd_replicates.csv.gz'), \n",
    "    compression='gzip',\n",
    "    low_memory = False\n",
    ")\n",
    "print(df_cellprofiler.shape)"
   ]
  },
  {
   "cell_type": "code",
   "execution_count": null,
   "metadata": {},
   "outputs": [],
   "source": [
    "# Exclude DMSO\n",
    "df_dino = df_dino[df_dino['Treatment'] != 'DMSO@NA'].reset_index(drop=True)\n",
    "\n",
    "df_CNN = df_CNN[df_CNN['Treatment'] != 'DMSO@NA'].reset_index(drop=True)\n",
    "df_CNN[\"Treatment_Clean\"] = df_CNN[\"broad_sample\"].apply(lambda x: '-'.join(x.split('-')[:2]))\n",
    "\n",
    "df_cellprofiler = df_cellprofiler[df_cellprofiler['broad_id'] != 'DMSO'].reset_index(drop=True)\n",
    "\n",
    "print(df_dino.shape, df_CNN.shape, df_cellprofiler.shape)"
   ]
  },
  {
   "cell_type": "code",
   "execution_count": null,
   "metadata": {},
   "outputs": [],
   "source": [
    "common_treatment = list(set(df_CNN[\"Treatment_Clean\"].unique()) \n",
    "                        & set(df_cellprofiler[\"broad_id\"].unique()))\n",
    "\n",
    "len(common_treatment)"
   ]
  },
  {
   "cell_type": "code",
   "execution_count": null,
   "metadata": {},
   "outputs": [],
   "source": [
    "# Select rows with common treatments only\n",
    "df_cellprofiler = df_cellprofiler.loc[df_cellprofiler['broad_id'].isin(common_treatment)]\n",
    "df_dino = df_dino.loc[df_dino['Treatment_Clean'].isin(common_treatment)]\n",
    "df_CNN = df_CNN.loc[df_CNN['Treatment_Clean'].isin(common_treatment)]\n",
    "\n",
    "print(len(df_cellprofiler[\"broad_id\"].unique()))\n",
    "print(len(df_dino['Treatment_Clean'].unique()))\n",
    "print(len(df_CNN[\"Treatment_Clean\"].unique()))"
   ]
  },
  {
   "cell_type": "code",
   "execution_count": null,
   "metadata": {},
   "outputs": [],
   "source": [
    "# Filter for only max dose\n",
    "idx = df_cellprofiler.groupby(['broad_id'])['Metadata_dose_recode'].transform(max) == \\\n",
    "        df_cellprofiler['Metadata_dose_recode']\n",
    "\n",
    "df_cellprofiler = df_cellprofiler[idx]"
   ]
  },
  {
   "cell_type": "code",
   "execution_count": null,
   "metadata": {},
   "outputs": [],
   "source": [
    "print(df_cellprofiler.shape)\n",
    "print(df_dino.shape)\n",
    "print(df_CNN.shape)"
   ]
  },
  {
   "cell_type": "markdown",
   "metadata": {},
   "source": [
    "## 2. Align MOA annotation"
   ]
  },
  {
   "cell_type": "code",
   "execution_count": null,
   "metadata": {},
   "outputs": [],
   "source": [
    "# Convert moa annotation to lower case\n",
    "df_cellprofiler['moa'] = df_cellprofiler['moa'].apply(lambda x: x.lower())"
   ]
  },
  {
   "cell_type": "code",
   "execution_count": null,
   "metadata": {},
   "outputs": [],
   "source": [
    "# Create moa-compound dictionary\n",
    "df_cpds_moas = df_cellprofiler.drop_duplicates(['broad_id','moa'])[['broad_id','moa']]\n",
    "cpds_moa = dict(zip(df_cpds_moas['broad_id'], df_cpds_moas['moa']))\n",
    "len(cpds_moa)"
   ]
  },
  {
   "cell_type": "code",
   "execution_count": null,
   "metadata": {},
   "outputs": [],
   "source": [
    "df_cpds_moas.to_csv('moa_annotation.csv', index=False)"
   ]
  },
  {
   "cell_type": "code",
   "execution_count": null,
   "metadata": {},
   "outputs": [],
   "source": [
    "# Concatenate moa for three datasets\n",
    "df_dino[\"moa\"]= df_dino[\"Treatment_Clean\"].map(cpds_moa)\n",
    "df_CNN['moa'] = df_CNN['Treatment_Clean'].map(cpds_moa)\n",
    "\n",
    "print(len(df_cellprofiler[\"moa\"].unique()), \n",
    "      len(df_dino['moa'].unique()), \n",
    "      len(df_CNN[\"moa\"].unique()))"
   ]
  },
  {
   "cell_type": "code",
   "execution_count": null,
   "metadata": {},
   "outputs": [],
   "source": [
    "# Add compound name 'pert_iname' for dino and cpcnn features\n",
    "pertname = df_cellprofiler.drop_duplicates(['pert_iname','broad_id'])[['pert_iname','broad_id']]\n",
    "pertname_dict = dict(zip(pertname['broad_id'], pertname['pert_iname']))\n",
    "\n",
    "df_dino['pert_iname'] = df_dino['Treatment_Clean'].map(pertname_dict)\n",
    "df_CNN['pert_iname'] = df_CNN['Treatment_Clean'].map(pertname_dict)"
   ]
  },
  {
   "cell_type": "code",
   "execution_count": null,
   "metadata": {},
   "outputs": [],
   "source": [
    "#Save file to csv\n",
    "out_dir = 'data'\n",
    "\n",
    "df_cellprofiler.to_csv(f\"{out_dir}/cp_cellprofiler_final.csv\",index=False)\n",
    "df_dino.to_csv(f\"{out_dir}/cp_dino_final.csv\",index=False)\n",
    "df_CNN.to_csv(f\"{out_dir}/cp_CNN_final.csv\",index=False)"
   ]
  },
  {
   "cell_type": "markdown",
   "metadata": {},
   "source": [
    "## 3. Split compounds into train and test set"
   ]
  },
  {
   "cell_type": "code",
   "execution_count": null,
   "metadata": {},
   "outputs": [],
   "source": [
    "# create cpd name - moa dictionary\n",
    "df_cpds_moas = df_cellprofiler.drop_duplicates(['pert_iname','moa'])[['pert_iname','moa']]\n",
    "cpds_moa = dict(zip(df_cpds_moas['pert_iname'], df_cpds_moas['moa']))\n",
    "len(cpds_moa)"
   ]
  },
  {
   "cell_type": "code",
   "execution_count": null,
   "metadata": {},
   "outputs": [],
   "source": [
    "df_pert_cpds_moas = split_cpds_moas(cpds_moa)\n",
    "df_pert_cpds_moas"
   ]
  },
  {
   "cell_type": "code",
   "execution_count": null,
   "metadata": {},
   "outputs": [],
   "source": [
    "len(df_pert_cpds_moas[df_pert_cpds_moas['test']]['pert_iname'].unique()) ##moas in the test data"
   ]
  },
  {
   "cell_type": "code",
   "execution_count": null,
   "metadata": {},
   "outputs": [],
   "source": [
    "def get_moa_count(df):\n",
    "    \"\"\"\n",
    "    Get the number of compounds MOAs are present in, for both train and test data\n",
    "    \"\"\"\n",
    "    df_moa_ct = df.drop(['pert_iname'], axis=1).groupby(['moa']).agg(['sum'])\n",
    "    df_moa_ct.columns = df_moa_ct.columns.droplevel(1)\n",
    "    df_moa_ct.reset_index(inplace=True)\n",
    "    return df_moa_ct"
   ]
  },
  {
   "cell_type": "code",
   "execution_count": null,
   "metadata": {},
   "outputs": [],
   "source": [
    "def get_test_ratio(df):\n",
    "    if df['test'] > 0:\n",
    "        return df[\"train\"] / df[\"test\"]\n",
    "    return 0"
   ]
  },
  {
   "cell_type": "code",
   "execution_count": null,
   "metadata": {},
   "outputs": [],
   "source": [
    "df_moa_count = get_moa_count(df_pert_cpds_moas)"
   ]
  },
  {
   "cell_type": "code",
   "execution_count": null,
   "metadata": {},
   "outputs": [],
   "source": [
    "df_moa_count['test_ratio'] = df_moa_count.apply(get_test_ratio, axis=1)"
   ]
  },
  {
   "cell_type": "code",
   "execution_count": null,
   "metadata": {},
   "outputs": [],
   "source": [
    "## All MOAs found in test should be found in train data, so this should output nothing...GOOD!\n",
    "df_moa_count[(df_moa_count['train'] == 0) & (df_moa_count['test'] >= 1)]"
   ]
  },
  {
   "cell_type": "code",
   "execution_count": null,
   "metadata": {},
   "outputs": [],
   "source": [
    "## moas that are represented in more than one compounds (> 1), \n",
    "## present in train set but not present in test set\n",
    "df_moa_count[(df_moa_count['train'] > 1) & (df_moa_count['test'] == 0)]"
   ]
  },
  {
   "cell_type": "code",
   "execution_count": null,
   "metadata": {},
   "outputs": [],
   "source": [
    "len(df_pert_cpds_moas[df_pert_cpds_moas['train']]['pert_iname'].unique()) ##no of compounds in train data"
   ]
  },
  {
   "cell_type": "code",
   "execution_count": null,
   "metadata": {},
   "outputs": [],
   "source": [
    "len(df_pert_cpds_moas[df_pert_cpds_moas['test']]['pert_iname'].unique()) ##no of compounds in test data"
   ]
  },
  {
   "cell_type": "code",
   "execution_count": null,
   "metadata": {},
   "outputs": [],
   "source": [
    "def save_to_csv(df, path, file_name, compress=None):\n",
    "    \"\"\"saves dataframes to csv\"\"\"\n",
    "    \n",
    "    if not os.path.exists(path):\n",
    "        os.mkdir(path)\n",
    "    \n",
    "    df.to_csv(os.path.join(path, file_name), index=False, compression=compress)"
   ]
  },
  {
   "cell_type": "code",
   "execution_count": null,
   "metadata": {},
   "outputs": [],
   "source": [
    "save_to_csv(df_pert_cpds_moas, \"data\", 'split_moas_cpds_final.csv')"
   ]
  }
 ],
 "metadata": {
  "kernelspec": {
   "display_name": "Python 3 (ipykernel)",
   "language": "python",
   "name": "python3"
  },
  "language_info": {
   "codemirror_mode": {
    "name": "ipython",
    "version": 3
   },
   "file_extension": ".py",
   "mimetype": "text/x-python",
   "name": "python",
   "nbconvert_exporter": "python",
   "pygments_lexer": "ipython3",
   "version": "3.9.15"
  }
 },
 "nbformat": 4,
 "nbformat_minor": 4
}
