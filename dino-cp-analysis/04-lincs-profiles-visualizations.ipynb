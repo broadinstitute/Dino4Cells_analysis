{
 "cells": [
  {
   "cell_type": "code",
   "execution_count": null,
   "metadata": {},
   "outputs": [],
   "source": [
    "import pandas as pd\n",
    "import matplotlib.pyplot as plt\n",
    "import seaborn as sb\n",
    "import umap\n",
    "\n",
    "import sys\n",
    "sys.path.append(\"../profiling/\")\n",
    "import profiling"
   ]
  },
  {
   "cell_type": "code",
   "execution_count": null,
   "metadata": {},
   "outputs": [],
   "source": [
    "NUM_FEATURES = 384\n",
    "INPUT_PROFILES = \"data/well_level_profiles_vits_LINCS_1e-5_final.csv\"\n",
    "MOA_FILE = 'moa_annotation.csv'\n",
    "\n",
    "OUTPUT_CSV = 'output/UMAP_of_LINCS_ViT_Small.csv'\n",
    "OUTPUT_UMAP = 'output/UMAP_VITs.png'"
   ]
  },
  {
   "cell_type": "code",
   "execution_count": null,
   "metadata": {},
   "outputs": [],
   "source": [
    "wells = pd.read_csv(INPUT_PROFILES)\n",
    "columns2 = [str(i) for i in range(NUM_FEATURES)]\n",
    "wells.shape"
   ]
  },
  {
   "cell_type": "code",
   "execution_count": null,
   "metadata": {},
   "outputs": [],
   "source": [
    "df_cpds_moas = pd.read_csv(MOA_FILE)"
   ]
  },
  {
   "cell_type": "code",
   "execution_count": null,
   "metadata": {},
   "outputs": [],
   "source": [
    "cpds_moa = dict(zip(df_cpds_moas['broad_id'], df_cpds_moas['moa']))\n",
    "cpds_moa['DMSO@NA'] = 'control'\n",
    "wells[\"moa\"]= wells[\"Treatment_Clean\"].map(cpds_moa)"
   ]
  },
  {
   "cell_type": "code",
   "execution_count": null,
   "metadata": {},
   "outputs": [],
   "source": [
    "def helper_func(comp):\n",
    "    for y in str(comp).split(\"|\"):\n",
    "        if y in moa_list:\n",
    "            return y\n",
    "    return \"Other\"\n",
    "moa_list = [\"tubulin polymerization inhibitor\",\"cdk inhibitor\", \"hsp inhibitor\", \"plk inhibitor\", \"proteasome inhibitor\",  \"xiap inhibitor\", \"control\"]\n",
    "# moa_list = ['inositol monophosphatase inhibitor', 'MDM inhibitor', 'purine antagonist', 'PKC activator', 'MEK inhibitor', 'BCL inhibitor', 'Control']\n",
    "\n",
    "wells[\"highlight_moa\"] = wells[\"moa\"].apply(lambda x: helper_func(x))\n"
   ]
  },
  {
   "cell_type": "markdown",
   "metadata": {},
   "source": [
    "# Well-level UMAP"
   ]
  },
  {
   "cell_type": "code",
   "execution_count": null,
   "metadata": {},
   "outputs": [],
   "source": [
    "reducer = umap.UMAP(n_neighbors=15, n_components=2)\n",
    "embeddings = reducer.fit_transform(wells[columns2])\n",
    "aux = pd.concat((pd.DataFrame(embeddings, columns=[\"X\", \"Y\"]), wells.reset_index()), axis=1)"
   ]
  },
  {
   "cell_type": "code",
   "execution_count": null,
   "metadata": {},
   "outputs": [],
   "source": [
    "neg_control = aux[aux['Treatment']== 'DMSO@NA']\n",
    "# pos_control = aux.loc[aux[\"Treatment_Clean\"].isin(['BRD-K50691590', 'BRD-K88510285'])]\n",
    "# treatment = aux.loc[~aux[\"Treatment_Clean\"].isin(['DMSO@NA','BRD-K50691590', 'BRD-K88510285'])]\n",
    "others = aux[aux.highlight_moa=='Other']\n",
    "highlight = aux[(aux.highlight_moa!='Other') & (aux.highlight_moa!='control')]"
   ]
  },
  {
   "cell_type": "code",
   "execution_count": null,
   "metadata": {},
   "outputs": [],
   "source": [
    "palette={\"xiap inhibitor\": \"darkred\", \n",
    "         \"hsp inhibitor\": \"orange\", \n",
    "         \"cdk inhibitor\": \"lightblue\", \n",
    "         \"plk inhibitor\": \"darkblue\", \n",
    "         \"tubulin polymerization inhibitor\": \"pink\", \n",
    "         \"proteasome inhibitor\": 'green'}"
   ]
  },
  {
   "cell_type": "code",
   "execution_count": null,
   "metadata": {},
   "outputs": [],
   "source": [
    "plt.figure(figsize=(10,10))\n",
    "\n",
    "a = sb.scatterplot(data=others, x=\"X\", y=\"Y\", s=5, color='silver')\n",
    "b = sb.scatterplot(data=neg_control, x=\"X\", y=\"Y\", s=5, color='red', marker='+')\n",
    "# c = sb.scatterplot(data=pos_control, x=\"X\", y=\"Y\", s=5, color='green', marker='+')\n",
    "d = sb.scatterplot(data=highlight, x=\"X\", y=\"Y\", s=5, hue=\"highlight_moa\", palette=palette)\n",
    "\n",
    "plt.legend(bbox_to_anchor=(1.05, 1), loc=2, borderaxespad=0.)\n",
    "plt.savefig(OUTPUT_UMAP, bbox_inches='tight')"
   ]
  },
  {
   "cell_type": "code",
   "execution_count": null,
   "metadata": {},
   "outputs": [],
   "source": [
    "aux.to_csv(OUTPUT_CSV,index=False)"
   ]
  }
 ],
 "metadata": {
  "kernelspec": {
   "display_name": "Python 3 (ipykernel)",
   "language": "python",
   "name": "python3"
  },
  "language_info": {
   "codemirror_mode": {
    "name": "ipython",
    "version": 3
   },
   "file_extension": ".py",
   "mimetype": "text/x-python",
   "name": "python",
   "nbconvert_exporter": "python",
   "pygments_lexer": "ipython3",
   "version": "3.9.15"
  }
 },
 "nbformat": 4,
 "nbformat_minor": 4
}
